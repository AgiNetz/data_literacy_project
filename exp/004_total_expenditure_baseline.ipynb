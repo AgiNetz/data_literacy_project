{
 "cells": [
  {
   "cell_type": "code",
   "execution_count": 1,
   "id": "07390a63",
   "metadata": {},
   "outputs": [],
   "source": [
    "import pandas as pd\n",
    "import numpy as np\n",
    "import matplotlib.pyplot as plt\n",
    "import sklearn\n",
    "import logging\n",
    "logging.root.setLevel(10)\n",
    "\n",
    "import sys\n",
    "import json\n",
    "import os\n",
    "sys.path.insert(0, os.path.realpath('..'))\n",
    "os.chdir('..')\n",
    "\n",
    "from src import data\n",
    "from src.model import get_splits\n",
    "\n",
    "with open('config.json', 'r') as cfg:\n",
    "    config = json.load(cfg)\n",
    "    \n",
    "random_seed = 42"
   ]
  },
  {
   "cell_type": "code",
   "execution_count": 2,
   "id": "f7c1cdfc",
   "metadata": {},
   "outputs": [
    {
     "name": "stderr",
     "output_type": "stream",
     "text": [
      "INFO:root:Dropped 0 rows with NaN values\n",
      "INFO:root:Dropped 0 rows with empty string values\n",
      "INFO:root:Dropped 0 rows with invalid essential columns\n"
     ]
    }
   ],
   "source": [
    "dataset = data.load_data(config, False)\n",
    "clean_data = data.filter_bad_data(dataset)\n",
    "samples_pcnt = data.create_samples(clean_data)[0]"
   ]
  },
  {
   "cell_type": "code",
   "execution_count": 5,
   "id": "10dc4bda",
   "metadata": {},
   "outputs": [],
   "source": [
    "train, test = get_splits(samples_pcnt, test_size=config[\"test_size\"], random_seed=random_seed)\n",
    "\n",
    "train['Total expenditure per capita (1000s USD)'] /= 1000\n",
    "test['Total expenditure per capita (1000s USD)'] /= 1000\n",
    "\n",
    "train_fts = train['Total expenditure per capita (1000s USD)'].to_numpy().reshape(-1, 1)\n",
    "test_fts = test['Total expenditure per capita (1000s USD)'].to_numpy().reshape(-1, 1)\n",
    "\n",
    "train_labels = train[\"Happiness score\"].to_numpy()\n",
    "test_labels = test[\"Happiness score\"].to_numpy()"
   ]
  },
  {
   "cell_type": "code",
   "execution_count": 6,
   "id": "8e8ae400",
   "metadata": {},
   "outputs": [],
   "source": [
    "from sklearn.linear_model import LinearRegression\n",
    "# Best model was LinearRegression with no polynomial features\n",
    "model = LinearRegression().fit(train_fts, train_labels)"
   ]
  },
  {
   "cell_type": "code",
   "execution_count": 7,
   "id": "9f2645e3",
   "metadata": {},
   "outputs": [
    {
     "name": "stdout",
     "output_type": "stream",
     "text": [
      "Train: R2 score: 0.3583214258247438, MSE: 0.43951908961827574\n",
      "Test: R2 score: 0.4000304924958994, MSE: 0.31858239974084757\n"
     ]
    }
   ],
   "source": [
    "from sklearn.metrics import mean_squared_error\n",
    "\n",
    "train_r2_score = model.score(train_fts, train_labels)\n",
    "test_r2_score = model.score(test_fts, test_labels)\n",
    "\n",
    "train_preds = model.predict(train_fts)\n",
    "test_preds = model.predict(test_fts)\n",
    "\n",
    "train_mse = mean_squared_error(train_labels, train_preds)\n",
    "test_mse = mean_squared_error(test_labels, test_preds)\n",
    "\n",
    "print(\"Train: R2 score: {r}, MSE: {m}\".format(r=train_r2_score, m=train_mse))\n",
    "print(\"Test: R2 score: {r}, MSE: {m}\".format(r=test_r2_score, m=test_mse))"
   ]
  },
  {
   "cell_type": "code",
   "execution_count": null,
   "id": "0dad200a",
   "metadata": {},
   "outputs": [],
   "source": []
  }
 ],
 "metadata": {
  "kernelspec": {
   "display_name": "Python 3 (ipykernel)",
   "language": "python",
   "name": "python3"
  },
  "language_info": {
   "codemirror_mode": {
    "name": "ipython",
    "version": 3
   },
   "file_extension": ".py",
   "mimetype": "text/x-python",
   "name": "python",
   "nbconvert_exporter": "python",
   "pygments_lexer": "ipython3",
   "version": "3.9.4"
  }
 },
 "nbformat": 4,
 "nbformat_minor": 5
}
